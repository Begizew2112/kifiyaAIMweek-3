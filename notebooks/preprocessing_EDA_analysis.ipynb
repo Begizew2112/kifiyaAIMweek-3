{
 "cells": [
  {
   "cell_type": "code",
   "execution_count": 1,
   "metadata": {},
   "outputs": [],
   "source": [
    "import pandas as pd\n",
    "import numpy as np\n",
    "from scipy.stats import chi2_contingency, ttest_ind\n",
    "import os\n",
    "import matplotlib.pyplot as plt\n",
    "import seaborn as sns\n"
   ]
  },
  {
   "cell_type": "code",
   "execution_count": 7,
   "metadata": {},
   "outputs": [],
   "source": [
    "def generate_insurance_data(num_records=1000):\n",
    "    np.random.seed(42)\n",
    "    provinces = ['Province_A', 'Province_B', 'Province_C']\n",
    "    genders = ['Male', 'Female']\n",
    "    \n",
    "    claim_rates_province = {\n",
    "        'Province_A': 0.1,\n",
    "        'Province_B': 0.9,\n",
    "        'Province_C': 0.2\n",
    "    }\n",
    "    \n",
    "    claim_rates_gender = {\n",
    "        'Male': 0.6,\n",
    "        'Female': 0.2\n",
    "    }\n",
    "    \n",
    "    province_choices = np.random.choice(provinces, num_records)\n",
    "    gender_choices = np.random.choice(genders, num_records)\n",
    "    \n",
    "    claims = [1 if np.random.rand() < claim_rates_gender[gender] else 0 for gender in gender_choices]\n",
    "    \n",
    "    data = {\n",
    "        'Province': province_choices,\n",
    "        'Gender': gender_choices,\n",
    "        'Claimed': claims\n",
    "    }\n",
    "    \n",
    "    return pd.DataFrame(data)\n",
    "\n",
    "def save_data_to_csv(data, filename='insurance_data.csv'):\n",
    "    save_path = r'C:\\Users\\Yibabe\\Desktop\\kifiyaAIMweek-3\\data'\n",
    "    os.makedirs(save_path, exist_ok=True)\n",
    "    data.to_csv(os.path.join(save_path, filename), index=False)\n",
    "\n",
    "def preprocessing_cripts(data):\n",
    "    contingency_table = pd.crosstab(data['Province'], data['Claimed'])\n",
    "    chi2, p, dof, expected = chi2_contingency(contingency_table)\n",
    "    return chi2, p, contingency_table\n",
    "\n",
    "def gender_analysis(data):\n",
    "    male_claims = data[data['Gender'] == 'Male']['Claimed']\n",
    "    female_claims = data[data['Gender'] == 'Female']['Claimed']\n",
    "    t_stat, p_value = ttest_ind(male_claims, female_claims, equal_var=False)\n",
    "    return t_stat, p_value\n",
    "\n",
    "def save_insurance_data_to_csv(text_file_path, csv_file_name='insurance_text_data.csv'):\n",
    "    df = pd.read_csv(text_file_path, delimiter='|')\n",
    "    save_path = r'C:\\Users\\Yibabe\\Desktop\\kifiyaAIMweek-3\\data'\n",
    "    os.makedirs(save_path, exist_ok=True)\n",
    "    csv_file_path = os.path.join(save_path, csv_file_name)\n",
    "    df.to_csv(csv_file_path, index=False)\n",
    "    print(f\"Data saved to {csv_file_path}\")\n"
   ]
  },
  {
   "cell_type": "code",
   "execution_count": 6,
   "metadata": {},
   "outputs": [
    {
     "name": "stderr",
     "output_type": "stream",
     "text": [
      "C:\\Users\\Yibabe\\AppData\\Local\\Temp\\ipykernel_9880\\1944191395.py:47: DtypeWarning: Columns (32,37) have mixed types. Specify dtype option on import or set low_memory=False.\n",
      "  df = pd.read_csv(text_file_path, delimiter='|')\n"
     ]
    },
    {
     "name": "stdout",
     "output_type": "stream",
     "text": [
      "Data saved to C:\\Users\\Yibabe\\Desktop\\kifiyaAIMweek-3\\data\\insurance_text_data.csv\n"
     ]
    }
   ],
   "source": [
    "text_file_path = r'C:\\Users\\Yibabe\\Downloads\\MachineLearningRating_v3.txt'\n",
    "\n",
    "# Save the insurance data from the text file to a CSV file\n",
    "save_insurance_data_to_csv(text_file_path)\n"
   ]
  },
  {
   "cell_type": "code",
   "execution_count": 9,
   "metadata": {},
   "outputs": [],
   "source": [
    "# Generate synthetic insurance data\n",
    "insurance_data = generate_insurance_data()\n",
    "\n",
    "# Save the generated data as a CSV\n",
    "save_data_to_csv(insurance_data)\n"
   ]
  },
  {
   "cell_type": "code",
   "execution_count": 10,
   "metadata": {},
   "outputs": [],
   "source": [
    "\n",
    "import sys\n",
    "import os\n",
    "sys.path.append(os.path.abspath('../scripts'))"
   ]
  },
  {
   "cell_type": "code",
   "execution_count": null,
   "metadata": {},
   "outputs": [],
   "source": [
    "from preprocessing_script import save_insurance_data_to_csv"
   ]
  },
  {
   "cell_type": "code",
   "execution_count": null,
   "metadata": {},
   "outputs": [],
   "source": []
  },
  {
   "cell_type": "code",
   "execution_count": null,
   "metadata": {},
   "outputs": [],
   "source": []
  },
  {
   "cell_type": "code",
   "execution_count": null,
   "metadata": {},
   "outputs": [],
   "source": []
  }
 ],
 "metadata": {
  "kernelspec": {
   "display_name": "Python 3",
   "language": "python",
   "name": "python3"
  },
  "language_info": {
   "codemirror_mode": {
    "name": "ipython",
    "version": 3
   },
   "file_extension": ".py",
   "mimetype": "text/x-python",
   "name": "python",
   "nbconvert_exporter": "python",
   "pygments_lexer": "ipython3",
   "version": "3.12.5"
  }
 },
 "nbformat": 4,
 "nbformat_minor": 2
}
